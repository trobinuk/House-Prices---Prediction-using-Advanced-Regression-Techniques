{
 "cells": [
  {
   "cell_type": "code",
   "execution_count": 1,
   "id": "15dad744",
   "metadata": {},
   "outputs": [],
   "source": [
    "import pandas as pd;"
   ]
  },
  {
   "cell_type": "code",
   "execution_count": 2,
   "id": "c0349ce3",
   "metadata": {},
   "outputs": [],
   "source": [
    "import ModelAuto as ma;"
   ]
  },
  {
   "cell_type": "code",
   "execution_count": 3,
   "id": "78fc7314",
   "metadata": {},
   "outputs": [],
   "source": [
    "#Load train and test data into python data frame\n",
    "train_data = pd.read_csv(\"C:\\\\Users\\\\trobi\\\\OneDrive\\\\Desktop\\\\Data Science and Technologies\\\\Project\\\\train.csv\")\n",
    "test_data = pd.read_csv(\"C:\\\\Users\\\\trobi\\\\OneDrive\\\\Desktop\\\\Data Science and Technologies\\\\Project\\\\test.csv\")"
   ]
  },
  {
   "cell_type": "code",
   "execution_count": 4,
   "id": "292fffae",
   "metadata": {},
   "outputs": [],
   "source": [
    "no_of_null_values = train_data.isna().sum()"
   ]
  },
  {
   "cell_type": "code",
   "execution_count": 5,
   "id": "8973e9ea",
   "metadata": {},
   "outputs": [],
   "source": [
    "no_of_null_values.to_csv('C:\\\\Users\\\\trobi\\\\ain = ma.Datapreprocess.handel_nan(train) \n",
    "test = ma.Datapreprocess.handel_nan(test)OneDrive\\\\Desktop\\\\Data Science and Technologies\\\\Project\\\\no_of_null_values.csv',index=True)"
   ]
  },
  {
   "cell_type": "code",
   "execution_count": 6,
   "id": "45342378",
   "metadata": {},
   "outputs": [],
   "source": [
    "train = train_data.copy()\n",
    "test = test_data.copy()"
   ]
  },
  {
   "cell_type": "code",
   "execution_count": 9,
   "id": "720b0c52",
   "metadata": {},
   "outputs": [],
   "source": [
    "#In this step handel_nan will remove columns that has more than 50% null values\n",
    "train = ma.Datapreprocess.handel_nan(train) \n",
    "test = ma.Datapreprocess.handel_nan(test)"
   ]
  },
  {
   "cell_type": "code",
   "execution_count": 8,
   "id": "92b2574c",
   "metadata": {},
   "outputs": [],
   "source": [
    "train.to_csv('C:\\\\Users\\\\trobi\\\\OneDrive\\\\Desktop\\\\Data Science and Technologies\\\\Project\\\\train_new.csv',index=True)\n",
    "#If I check the csv file the total number of columns present now is 77 previously it was 81"
   ]
  },
  {
   "cell_type": "code",
   "execution_count": 10,
   "id": "e66b4635",
   "metadata": {},
   "outputs": [],
   "source": [
    "#Storing Saleprice column in a separate variable this SalePrice will be the target column\n",
    "Y = train['SalePrice'] "
   ]
  },
  {
   "cell_type": "code",
   "execution_count": 11,
   "id": "454a2422",
   "metadata": {},
   "outputs": [],
   "source": [
    "#Storing All other columns in a separate variable except for SalePrice, for all this columns  we need to find out SalePrice\n",
    "X = train.drop(['SalePrice','Id'],axis=1)"
   ]
  },
  {
   "cell_type": "code",
   "execution_count": 12,
   "id": "cd33fce9",
   "metadata": {},
   "outputs": [],
   "source": [
    "test = test.drop(['Id'],axis=1)"
   ]
  },
  {
   "cell_type": "code",
   "execution_count": 13,
   "id": "288f8028",
   "metadata": {},
   "outputs": [],
   "source": [
    "#The below code will scale the data between 0,1 by default\n",
    "train = ma.Datapreprocess.handel_standardization(X)\n",
    "test = ma.Datapreprocess.handel_standardization(test)"
   ]
  },
  {
   "cell_type": "code",
   "execution_count": 14,
   "id": "892c7362",
   "metadata": {},
   "outputs": [
    {
     "name": "stdout",
     "output_type": "stream",
     "text": [
      "      MSSubClass MSZoning  LotFrontage   LotArea Street LotShape LandContour  \\\n",
      "0       0.235294       RL     0.150685  0.033420   Pave      Reg         Lvl   \n",
      "1       0.000000       RL     0.202055  0.038795   Pave      Reg         Lvl   \n",
      "2       0.235294       RL     0.160959  0.046507   Pave      IR1         Lvl   \n",
      "3       0.294118       RL     0.133562  0.038561   Pave      IR1         Lvl   \n",
      "4       0.235294       RL     0.215753  0.060576   Pave      IR1         Lvl   \n",
      "...          ...      ...          ...       ...    ...      ...         ...   \n",
      "1455    0.235294       RL     0.140411  0.030929   Pave      Reg         Lvl   \n",
      "1456    0.000000       RL     0.219178  0.055505   Pave      Reg         Lvl   \n",
      "1457    0.294118       RL     0.154110  0.036187   Pave      Reg         Lvl   \n",
      "1458    0.000000       RL     0.160959  0.039342   Pave      Reg         Lvl   \n",
      "1459    0.000000       RL     0.184932  0.040370   Pave      Reg         Lvl   \n",
      "\n",
      "     Utilities LotConfig LandSlope  ... OpenPorchSF EnclosedPorch 3SsnPorch  \\\n",
      "0       AllPub    Inside       Gtl  ...    0.111517      0.000000       0.0   \n",
      "1       AllPub       FR2       Gtl  ...    0.000000      0.000000       0.0   \n",
      "2       AllPub    Inside       Gtl  ...    0.076782      0.000000       0.0   \n",
      "3       AllPub    Corner       Gtl  ...    0.063985      0.492754       0.0   \n",
      "4       AllPub       FR2       Gtl  ...    0.153565      0.000000       0.0   \n",
      "...        ...       ...       ...  ...         ...           ...       ...   \n",
      "1455    AllPub    Inside       Gtl  ...    0.073126      0.000000       0.0   \n",
      "1456    AllPub    Inside       Gtl  ...    0.000000      0.000000       0.0   \n",
      "1457    AllPub    Inside       Gtl  ...    0.109689      0.000000       0.0   \n",
      "1458    AllPub    Inside       Gtl  ...    0.000000      0.202899       0.0   \n",
      "1459    AllPub    Inside       Gtl  ...    0.124314      0.000000       0.0   \n",
      "\n",
      "     ScreenPorch PoolArea  MiscVal    MoSold  YrSold  SaleType SaleCondition  \n",
      "0            0.0      0.0  0.00000  0.090909    0.50        WD        Normal  \n",
      "1            0.0      0.0  0.00000  0.363636    0.25        WD        Normal  \n",
      "2            0.0      0.0  0.00000  0.727273    0.50        WD        Normal  \n",
      "3            0.0      0.0  0.00000  0.090909    0.00        WD       Abnorml  \n",
      "4            0.0      0.0  0.00000  1.000000    0.50        WD        Normal  \n",
      "...          ...      ...      ...       ...     ...       ...           ...  \n",
      "1455         0.0      0.0  0.00000  0.636364    0.25        WD        Normal  \n",
      "1456         0.0      0.0  0.00000  0.090909    1.00        WD        Normal  \n",
      "1457         0.0      0.0  0.16129  0.363636    1.00        WD        Normal  \n",
      "1458         0.0      0.0  0.00000  0.272727    1.00        WD        Normal  \n",
      "1459         0.0      0.0  0.00000  0.454545    0.50        WD        Normal  \n",
      "\n",
      "[1460 rows x 75 columns]\n"
     ]
    }
   ],
   "source": [
    "print(train)"
   ]
  },
  {
   "cell_type": "code",
   "execution_count": 15,
   "id": "e940bc30",
   "metadata": {},
   "outputs": [
    {
     "data": {
      "text/html": [
       "<div>\n",
       "<style scoped>\n",
       "    .dataframe tbody tr th:only-of-type {\n",
       "        vertical-align: middle;\n",
       "    }\n",
       "\n",
       "    .dataframe tbody tr th {\n",
       "        vertical-align: top;\n",
       "    }\n",
       "\n",
       "    .dataframe thead th {\n",
       "        text-align: right;\n",
       "    }\n",
       "</style>\n",
       "<table border=\"1\" class=\"dataframe\">\n",
       "  <thead>\n",
       "    <tr style=\"text-align: right;\">\n",
       "      <th></th>\n",
       "      <th>Features</th>\n",
       "      <th>No_of_Catagorical</th>\n",
       "    </tr>\n",
       "  </thead>\n",
       "  <tbody>\n",
       "    <tr>\n",
       "      <th>0</th>\n",
       "      <td>MSZoning</td>\n",
       "      <td>5</td>\n",
       "    </tr>\n",
       "    <tr>\n",
       "      <th>1</th>\n",
       "      <td>Street</td>\n",
       "      <td>2</td>\n",
       "    </tr>\n",
       "    <tr>\n",
       "      <th>2</th>\n",
       "      <td>LotShape</td>\n",
       "      <td>4</td>\n",
       "    </tr>\n",
       "    <tr>\n",
       "      <th>3</th>\n",
       "      <td>LandContour</td>\n",
       "      <td>4</td>\n",
       "    </tr>\n",
       "    <tr>\n",
       "      <th>4</th>\n",
       "      <td>Utilities</td>\n",
       "      <td>2</td>\n",
       "    </tr>\n",
       "  </tbody>\n",
       "</table>\n",
       "</div>"
      ],
      "text/plain": [
       "      Features  No_of_Catagorical\n",
       "0     MSZoning                  5\n",
       "1       Street                  2\n",
       "2     LotShape                  4\n",
       "3  LandContour                  4\n",
       "4    Utilities                  2"
      ]
     },
     "execution_count": 15,
     "metadata": {},
     "output_type": "execute_result"
    },
    {
     "data": {
      "image/png": "[encoded data removed]",
      "text/plain": [
       "<Figure size 432x288 with 1 Axes>"
      ]
     },
     "metadata": {},
     "output_type": "display_data"
    }
   ],
   "source": [
    "#Shows the number of categorical values in each column\n",
    "count = ma.No_of_Catagorical(train)\n",
    "count.head(5)"
   ]
  },
  {
   "cell_type": "code",
   "execution_count": 17,
   "id": "1e2d6fcf",
   "metadata": {},
   "outputs": [],
   "source": [
    "#Assigns the value between 0 and 1 for the categorical variables\n",
    "Train, Test = ma.Datapreprocess.handel_Catagorical(train,test)"
   ]
  },
  {
   "cell_type": "code",
   "execution_count": 18,
   "id": "bcd80c46",
   "metadata": {},
   "outputs": [
    {
     "data": {
      "text/html": [
       "<div>\n",
       "<style scoped>\n",
       "    .dataframe tbody tr th:only-of-type {\n",
       "        vertical-align: middle;\n",
       "    }\n",
       "\n",
       "    .dataframe tbody tr th {\n",
       "        vertical-align: top;\n",
       "    }\n",
       "\n",
       "    .dataframe thead th {\n",
       "        text-align: right;\n",
       "    }\n",
       "</style>\n",
       "<table border=\"1\" class=\"dataframe\">\n",
       "  <thead>\n",
       "    <tr style=\"text-align: right;\">\n",
       "      <th></th>\n",
       "      <th>MSSubClass</th>\n",
       "      <th>LotFrontage</th>\n",
       "      <th>LotArea</th>\n",
       "      <th>OverallQual</th>\n",
       "      <th>OverallCond</th>\n",
       "      <th>YearBuilt</th>\n",
       "      <th>YearRemodAdd</th>\n",
       "      <th>MasVnrArea</th>\n",
       "      <th>BsmtFinSF1</th>\n",
       "      <th>BsmtFinSF2</th>\n",
       "      <th>...</th>\n",
       "      <th>ConLI</th>\n",
       "      <th>ConLw</th>\n",
       "      <th>New</th>\n",
       "      <th>Oth</th>\n",
       "      <th>WD</th>\n",
       "      <th>AdjLand</th>\n",
       "      <th>Alloca</th>\n",
       "      <th>Family</th>\n",
       "      <th>Normal</th>\n",
       "      <th>Partial</th>\n",
       "    </tr>\n",
       "  </thead>\n",
       "  <tbody>\n",
       "    <tr>\n",
       "      <th>0</th>\n",
       "      <td>0.235294</td>\n",
       "      <td>0.150685</td>\n",
       "      <td>0.033420</td>\n",
       "      <td>0.666667</td>\n",
       "      <td>0.500</td>\n",
       "      <td>0.949275</td>\n",
       "      <td>0.883333</td>\n",
       "      <td>0.12250</td>\n",
       "      <td>0.125089</td>\n",
       "      <td>0.0</td>\n",
       "      <td>...</td>\n",
       "      <td>0</td>\n",
       "      <td>0</td>\n",
       "      <td>0</td>\n",
       "      <td>0</td>\n",
       "      <td>1</td>\n",
       "      <td>0</td>\n",
       "      <td>0</td>\n",
       "      <td>0</td>\n",
       "      <td>1</td>\n",
       "      <td>0</td>\n",
       "    </tr>\n",
       "    <tr>\n",
       "      <th>1</th>\n",
       "      <td>0.000000</td>\n",
       "      <td>0.202055</td>\n",
       "      <td>0.038795</td>\n",
       "      <td>0.555556</td>\n",
       "      <td>0.875</td>\n",
       "      <td>0.753623</td>\n",
       "      <td>0.433333</td>\n",
       "      <td>0.00000</td>\n",
       "      <td>0.173281</td>\n",
       "      <td>0.0</td>\n",
       "      <td>...</td>\n",
       "      <td>0</td>\n",
       "      <td>0</td>\n",
       "      <td>0</td>\n",
       "      <td>0</td>\n",
       "      <td>1</td>\n",
       "      <td>0</td>\n",
       "      <td>0</td>\n",
       "      <td>0</td>\n",
       "      <td>1</td>\n",
       "      <td>0</td>\n",
       "    </tr>\n",
       "    <tr>\n",
       "      <th>2</th>\n",
       "      <td>0.235294</td>\n",
       "      <td>0.160959</td>\n",
       "      <td>0.046507</td>\n",
       "      <td>0.666667</td>\n",
       "      <td>0.500</td>\n",
       "      <td>0.934783</td>\n",
       "      <td>0.866667</td>\n",
       "      <td>0.10125</td>\n",
       "      <td>0.086109</td>\n",
       "      <td>0.0</td>\n",
       "      <td>...</td>\n",
       "      <td>0</td>\n",
       "      <td>0</td>\n",
       "      <td>0</td>\n",
       "      <td>0</td>\n",
       "      <td>1</td>\n",
       "      <td>0</td>\n",
       "      <td>0</td>\n",
       "      <td>0</td>\n",
       "      <td>1</td>\n",
       "      <td>0</td>\n",
       "    </tr>\n",
       "    <tr>\n",
       "      <th>3</th>\n",
       "      <td>0.294118</td>\n",
       "      <td>0.133562</td>\n",
       "      <td>0.038561</td>\n",
       "      <td>0.666667</td>\n",
       "      <td>0.500</td>\n",
       "      <td>0.311594</td>\n",
       "      <td>0.333333</td>\n",
       "      <td>0.00000</td>\n",
       "      <td>0.038271</td>\n",
       "      <td>0.0</td>\n",
       "      <td>...</td>\n",
       "      <td>0</td>\n",
       "      <td>0</td>\n",
       "      <td>0</td>\n",
       "      <td>0</td>\n",
       "      <td>1</td>\n",
       "      <td>0</td>\n",
       "      <td>0</td>\n",
       "      <td>0</td>\n",
       "      <td>0</td>\n",
       "      <td>0</td>\n",
       "    </tr>\n",
       "    <tr>\n",
       "      <th>4</th>\n",
       "      <td>0.235294</td>\n",
       "      <td>0.215753</td>\n",
       "      <td>0.060576</td>\n",
       "      <td>0.777778</td>\n",
       "      <td>0.500</td>\n",
       "      <td>0.927536</td>\n",
       "      <td>0.833333</td>\n",
       "      <td>0.21875</td>\n",
       "      <td>0.116052</td>\n",
       "      <td>0.0</td>\n",
       "      <td>...</td>\n",
       "      <td>0</td>\n",
       "      <td>0</td>\n",
       "      <td>0</td>\n",
       "      <td>0</td>\n",
       "      <td>1</td>\n",
       "      <td>0</td>\n",
       "      <td>0</td>\n",
       "      <td>0</td>\n",
       "      <td>1</td>\n",
       "      <td>0</td>\n",
       "    </tr>\n",
       "  </tbody>\n",
       "</table>\n",
       "<p>5 rows × 176 columns</p>\n",
       "</div>"
      ],
      "text/plain": [
       "   MSSubClass  LotFrontage   LotArea  OverallQual  OverallCond  YearBuilt  \\\n",
       "0    0.235294     0.150685  0.033420     0.666667        0.500   0.949275   \n",
       "1    0.000000     0.202055  0.038795     0.555556        0.875   0.753623   \n",
       "2    0.235294     0.160959  0.046507     0.666667        0.500   0.934783   \n",
       "3    0.294118     0.133562  0.038561     0.666667        0.500   0.311594   \n",
       "4    0.235294     0.215753  0.060576     0.777778        0.500   0.927536   \n",
       "\n",
       "   YearRemodAdd  MasVnrArea  BsmtFinSF1  BsmtFinSF2  ...  ConLI  ConLw  New  \\\n",
       "0      0.883333     0.12250    0.125089         0.0  ...      0      0    0   \n",
       "1      0.433333     0.00000    0.173281         0.0  ...      0      0    0   \n",
       "2      0.866667     0.10125    0.086109         0.0  ...      0      0    0   \n",
       "3      0.333333     0.00000    0.038271         0.0  ...      0      0    0   \n",
       "4      0.833333     0.21875    0.116052         0.0  ...      0      0    0   \n",
       "\n",
       "   Oth  WD  AdjLand  Alloca  Family  Normal  Partial  \n",
       "0    0   1        0       0       0       1        0  \n",
       "1    0   1        0       0       0       1        0  \n",
       "2    0   1        0       0       0       1        0  \n",
       "3    0   1        0       0       0       0        0  \n",
       "4    0   1        0       0       0       1        0  \n",
       "\n",
       "[5 rows x 176 columns]"
      ]
     },
     "execution_count": 18,
     "metadata": {},
     "output_type": "execute_result"
    }
   ],
   "source": [
    "Train.head(5)"
   ]
  },
  {
   "cell_type": "code",
   "execution_count": 19,
   "id": "fb8415d0",
   "metadata": {},
   "outputs": [
    {
     "name": "stdout",
     "output_type": "stream",
     "text": [
      "Feature Analysing...\n",
      ". . . . . . . . . . . . . . . . . . . . . . . . . . . . . . . . . . . . . . . . . . . . . . . . . . . . . . . . . . . . . . . . . . . . . . . . . . . . . . . . . . . . . . . . . . . . . . . . . . . . . . . . . . . . . . . . . . . . . . . . . . . . . . . . . . . . . . . . . . . . . . . . . . . . . . . . . . . . . . . . . . . . . . . . . . . . . . . . "
     ]
    },
    {
     "data": {
      "image/png": "[encoded data removed]",
      "text/plain": [
       "<Figure size 1008x360 with 2 Axes>"
      ]
     },
     "metadata": {},
     "output_type": "display_data"
    }
   ],
   "source": [
    "#The dataset - Train (All Columns except SalePrice), Y-Target Column (SalePrice)\n",
    "feature = ma.FeatureSelection.backwardElimination(Train,Y) \n",
    "# It gives the best value with PValue less than 0.5\n",
    "# Accuracy is improving by the removal of attributes"
   ]
  },
  {
   "cell_type": "code",
   "execution_count": 20,
   "id": "ee03ef4f",
   "metadata": {},
   "outputs": [
    {
     "data": {
      "text/html": [
       "<div>\n",
       "<style scoped>\n",
       "    .dataframe tbody tr th:only-of-type {\n",
       "        vertical-align: middle;\n",
       "    }\n",
       "\n",
       "    .dataframe tbody tr th {\n",
       "        vertical-align: top;\n",
       "    }\n",
       "\n",
       "    .dataframe thead th {\n",
       "        text-align: right;\n",
       "    }\n",
       "</style>\n",
       "<table border=\"1\" class=\"dataframe\">\n",
       "  <thead>\n",
       "    <tr style=\"text-align: right;\">\n",
       "      <th></th>\n",
       "      <th>MSSubClass</th>\n",
       "      <th>LotArea</th>\n",
       "      <th>OverallQual</th>\n",
       "      <th>OverallCond</th>\n",
       "      <th>YearBuilt</th>\n",
       "      <th>YearRemodAdd</th>\n",
       "      <th>MasVnrArea</th>\n",
       "      <th>BsmtFinSF1</th>\n",
       "      <th>TotalBsmtSF</th>\n",
       "      <th>2ndFlrSF</th>\n",
       "      <th>...</th>\n",
       "      <th>Attchd</th>\n",
       "      <th>BuiltIn</th>\n",
       "      <th>CarPort</th>\n",
       "      <th>Detchd</th>\n",
       "      <th>RFn</th>\n",
       "      <th>CWD</th>\n",
       "      <th>Con</th>\n",
       "      <th>ConLD</th>\n",
       "      <th>New</th>\n",
       "      <th>Normal</th>\n",
       "    </tr>\n",
       "  </thead>\n",
       "  <tbody>\n",
       "    <tr>\n",
       "      <th>0</th>\n",
       "      <td>0.235294</td>\n",
       "      <td>0.033420</td>\n",
       "      <td>0.666667</td>\n",
       "      <td>0.500</td>\n",
       "      <td>0.949275</td>\n",
       "      <td>0.883333</td>\n",
       "      <td>0.12250</td>\n",
       "      <td>0.125089</td>\n",
       "      <td>0.140098</td>\n",
       "      <td>0.413559</td>\n",
       "      <td>...</td>\n",
       "      <td>1</td>\n",
       "      <td>0</td>\n",
       "      <td>0</td>\n",
       "      <td>0</td>\n",
       "      <td>1</td>\n",
       "      <td>0</td>\n",
       "      <td>0</td>\n",
       "      <td>0</td>\n",
       "      <td>0</td>\n",
       "      <td>1</td>\n",
       "    </tr>\n",
       "    <tr>\n",
       "      <th>1</th>\n",
       "      <td>0.000000</td>\n",
       "      <td>0.038795</td>\n",
       "      <td>0.555556</td>\n",
       "      <td>0.875</td>\n",
       "      <td>0.753623</td>\n",
       "      <td>0.433333</td>\n",
       "      <td>0.00000</td>\n",
       "      <td>0.173281</td>\n",
       "      <td>0.206547</td>\n",
       "      <td>0.000000</td>\n",
       "      <td>...</td>\n",
       "      <td>1</td>\n",
       "      <td>0</td>\n",
       "      <td>0</td>\n",
       "      <td>0</td>\n",
       "      <td>1</td>\n",
       "      <td>0</td>\n",
       "      <td>0</td>\n",
       "      <td>0</td>\n",
       "      <td>0</td>\n",
       "      <td>1</td>\n",
       "    </tr>\n",
       "    <tr>\n",
       "      <th>2</th>\n",
       "      <td>0.235294</td>\n",
       "      <td>0.046507</td>\n",
       "      <td>0.666667</td>\n",
       "      <td>0.500</td>\n",
       "      <td>0.934783</td>\n",
       "      <td>0.866667</td>\n",
       "      <td>0.10125</td>\n",
       "      <td>0.086109</td>\n",
       "      <td>0.150573</td>\n",
       "      <td>0.419370</td>\n",
       "      <td>...</td>\n",
       "      <td>1</td>\n",
       "      <td>0</td>\n",
       "      <td>0</td>\n",
       "      <td>0</td>\n",
       "      <td>1</td>\n",
       "      <td>0</td>\n",
       "      <td>0</td>\n",
       "      <td>0</td>\n",
       "      <td>0</td>\n",
       "      <td>1</td>\n",
       "    </tr>\n",
       "    <tr>\n",
       "      <th>3</th>\n",
       "      <td>0.294118</td>\n",
       "      <td>0.038561</td>\n",
       "      <td>0.666667</td>\n",
       "      <td>0.500</td>\n",
       "      <td>0.311594</td>\n",
       "      <td>0.333333</td>\n",
       "      <td>0.00000</td>\n",
       "      <td>0.038271</td>\n",
       "      <td>0.123732</td>\n",
       "      <td>0.366102</td>\n",
       "      <td>...</td>\n",
       "      <td>0</td>\n",
       "      <td>0</td>\n",
       "      <td>0</td>\n",
       "      <td>1</td>\n",
       "      <td>0</td>\n",
       "      <td>0</td>\n",
       "      <td>0</td>\n",
       "      <td>0</td>\n",
       "      <td>0</td>\n",
       "      <td>0</td>\n",
       "    </tr>\n",
       "    <tr>\n",
       "      <th>4</th>\n",
       "      <td>0.235294</td>\n",
       "      <td>0.060576</td>\n",
       "      <td>0.777778</td>\n",
       "      <td>0.500</td>\n",
       "      <td>0.927536</td>\n",
       "      <td>0.833333</td>\n",
       "      <td>0.21875</td>\n",
       "      <td>0.116052</td>\n",
       "      <td>0.187398</td>\n",
       "      <td>0.509927</td>\n",
       "      <td>...</td>\n",
       "      <td>1</td>\n",
       "      <td>0</td>\n",
       "      <td>0</td>\n",
       "      <td>0</td>\n",
       "      <td>1</td>\n",
       "      <td>0</td>\n",
       "      <td>0</td>\n",
       "      <td>0</td>\n",
       "      <td>0</td>\n",
       "      <td>1</td>\n",
       "    </tr>\n",
       "  </tbody>\n",
       "</table>\n",
       "<p>5 rows × 116 columns</p>\n",
       "</div>"
      ],
      "text/plain": [
       "   MSSubClass   LotArea  OverallQual  OverallCond  YearBuilt  YearRemodAdd  \\\n",
       "0    0.235294  0.033420     0.666667        0.500   0.949275      0.883333   \n",
       "1    0.000000  0.038795     0.555556        0.875   0.753623      0.433333   \n",
       "2    0.235294  0.046507     0.666667        0.500   0.934783      0.866667   \n",
       "3    0.294118  0.038561     0.666667        0.500   0.311594      0.333333   \n",
       "4    0.235294  0.060576     0.777778        0.500   0.927536      0.833333   \n",
       "\n",
       "   MasVnrArea  BsmtFinSF1  TotalBsmtSF  2ndFlrSF  ...  Attchd  BuiltIn  \\\n",
       "0     0.12250    0.125089     0.140098  0.413559  ...       1        0   \n",
       "1     0.00000    0.173281     0.206547  0.000000  ...       1        0   \n",
       "2     0.10125    0.086109     0.150573  0.419370  ...       1        0   \n",
       "3     0.00000    0.038271     0.123732  0.366102  ...       0        0   \n",
       "4     0.21875    0.116052     0.187398  0.509927  ...       1        0   \n",
       "\n",
       "   CarPort  Detchd  RFn  CWD  Con  ConLD  New  Normal  \n",
       "0        0       0    1    0    0      0    0       1  \n",
       "1        0       0    1    0    0      0    0       1  \n",
       "2        0       0    1    0    0      0    0       1  \n",
       "3        0       1    0    0    0      0    0       0  \n",
       "4        0       0    1    0    0      0    0       1  \n",
       "\n",
       "[5 rows x 116 columns]"
      ]
     },
     "execution_count": 20,
     "metadata": {},
     "output_type": "execute_result"
    }
   ],
   "source": [
    "feature.head() \n",
    "# Out of 176 columns 60 columns are removed for the improvement of accuracy"
   ]
  },
  {
   "cell_type": "code",
   "execution_count": 21,
   "id": "ca9dccc5",
   "metadata": {},
   "outputs": [
    {
     "name": "stdout",
     "output_type": "stream",
     "text": [
      "Regression Model Selection...\n",
      "\n",
      "Linear Regression ...\n",
      "Rsq : 0.8578292669893564\n",
      "\n",
      "Polinomial Regression ...\n",
      "Rsq : -1.8329526926263995e-05\n",
      "\n",
      "SVM Model ...\n",
      "Rsq : -0.04007285602025745\n",
      "\n",
      "Desision Tree ...\n",
      "Rsq :  0.8245557077401292\n",
      "\n",
      "Random Forest ...\n",
      "Rsq : 0.8832226468288839\n"
     ]
    },
    {
     "data": {
      "image/png": "[encoded data removed]",
      "text/plain": [
       "<Figure size 432x288 with 1 Axes>"
      ]
     },
     "metadata": {},
     "output_type": "display_data"
    }
   ],
   "source": [
    "#Choose the best model, It gives value for each model and also displays chart\n",
    "model = ma.ModelSelection.Regress_model(feature,Y) "
   ]
  },
  {
   "cell_type": "code",
   "execution_count": 22,
   "id": "1d6f55af",
   "metadata": {},
   "outputs": [],
   "source": [
    "#Predicting the values for the Test data with the best model\n",
    "subb = model.predict(Test.loc[:,feature.columns]) "
   ]
  },
  {
   "cell_type": "code",
   "execution_count": 23,
   "id": "03373504",
   "metadata": {},
   "outputs": [],
   "source": [
    "result_set = pd.DataFrame({'Id':test_data['Id'],'SalePrice':subb})"
   ]
  },
  {
   "cell_type": "code",
   "execution_count": 24,
   "id": "0f7f53cd",
   "metadata": {},
   "outputs": [
    {
     "name": "stdout",
     "output_type": "stream",
     "text": [
      "        Id  SalePrice\n",
      "0     1461  131690.50\n",
      "1     1462  161106.00\n",
      "2     1463  209431.30\n",
      "3     1464  206428.50\n",
      "4     1465  224684.31\n",
      "...    ...        ...\n",
      "1454  2915   98333.00\n",
      "1455  2916   95733.14\n",
      "1456  2917  163242.27\n",
      "1457  2918  131216.57\n",
      "1458  2919  276495.70\n",
      "\n",
      "[1459 rows x 2 columns]\n"
     ]
    }
   ],
   "source": [
    "print(result_set)"
   ]
  },
  {
   "cell_type": "code",
   "execution_count": 25,
   "id": "2e0b02c0",
   "metadata": {},
   "outputs": [],
   "source": [
    "#Exporting the results to csv\n",
    "result_set.to_csv('C:\\\\Users\\\\trobi\\\\OneDrive\\\\Desktop\\\\Data Science and Technologies\\\\Project\\\\ds_project_results.csv',index=False)"
   ]
  },
  {
   "cell_type": "code",
   "execution_count": null,
   "id": "e9d55266",
   "metadata": {},
   "outputs": [],
   "source": []
  }
 ],
 "metadata": {
  "kernelspec": {
   "display_name": "Python 3 (ipykernel)",
   "language": "python",
   "name": "python3"
  },
  "language_info": {
   "codemirror_mode": {
    "name": "ipython",
    "version": 3
   },
   "file_extension": ".py",
   "mimetype": "text/x-python",
   "name": "python",
   "nbconvert_exporter": "python",
   "pygments_lexer": "ipython3",
   "version": "3.9.7"
  }
 },
 "nbformat": 4,
 "nbformat_minor": 5
}
